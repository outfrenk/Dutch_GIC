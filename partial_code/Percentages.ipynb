{
 "cells": [
  {
   "cell_type": "code",
   "execution_count": 19,
   "metadata": {},
   "outputs": [],
   "source": [
    "# absolute and relative differences of stations due to changing amount of endnodes\n",
    "# baseline is 4 stations across the border\n",
    "### import packages ###\n",
    "import numpy as np\n",
    "import pandas as pd\n",
    "path='/nobackup/users/out/Magnetic_field/new_Halloween'\n",
    "#######################\n",
    "#what are the Dutch stations\n",
    "A=np.arange(3,21)\n",
    "\n",
    "B=np.arange(46,54,1)\n",
    "stationlist=np.hstack([0,1,A,28,29,32,33,35,43,44,B])\n",
    "\n",
    "B=np.arange(41,49,1)\n",
    "stationlist_more_reduced=np.hstack([0,1,A,25,26,29,30,32,39,40,B])\n",
    "\n",
    "B=np.arange(34,42,1)\n",
    "stationlist_very_reduced=np.hstack([0,1,A,23,24,27,28,30,32,33,B])\n",
    "\n",
    "#create matrices\n",
    "normal_np=np.zeros((1440*3,len(stationlist)))\n",
    "extended_np=np.zeros((1440*3,len(stationlist)))\n",
    "reduced_np=np.zeros((1440*3,len(stationlist)))\n",
    "more_reduced_np=np.zeros((1440*3,len(stationlist)))\n",
    "very_reduced_np=np.zeros((1440*3,len(stationlist)))\n",
    "\n",
    "#read-in\n",
    "for time in range(1440*3):\n",
    "    Atime=pd.read_csv(f'{path}/normal_powergrid/GIC/GIC_{str(time).zfill(4)}.csv',delimiter=';')\n",
    "    Atime=Atime.iloc[stationlist,:]\n",
    "    normal_np[time,:]=Atime.to_numpy()[:,2]\n",
    "    \n",
    "    Atime=pd.read_csv(f'{path}/extended_powergrid/GIC/GIC_{str(time).zfill(4)}.csv',delimiter=';')\n",
    "    Atime=Atime.iloc[stationlist,:]\n",
    "    extended_np[time,:]=Atime.to_numpy()[:,2]\n",
    "    \n",
    "    Atime=pd.read_csv(f'{path}/reduced_powergrid/GIC/GIC_{str(time).zfill(4)}.csv',delimiter=';')\n",
    "    Atime=Atime.iloc[stationlist,:]\n",
    "    reduced_np[time,:]=Atime.to_numpy()[:,2]\n",
    "    \n",
    "    Atime=pd.read_csv(f'{path}/very_reduced_powergrid/GIC/GIC_{str(time).zfill(4)}.csv',delimiter=';')\n",
    "    Atime=Atime.iloc[stationlist_very_reduced,:]\n",
    "    very_reduced_np[time,:]=Atime.to_numpy()[:,2]\n",
    "    \n",
    "    Atime=pd.read_csv(f'{path}/more_reduced_powergrid/GIC/GIC_{str(time).zfill(4)}.csv',delimiter=';')\n",
    "    Atime=Atime.iloc[stationlist_more_reduced,:]\n",
    "    more_reduced_np[time,:]=Atime.to_numpy()[:,2]"
   ]
  },
  {
   "cell_type": "code",
   "execution_count": 98,
   "metadata": {},
   "outputs": [],
   "source": [
    "diffext=np.zeros((1440*3,len(stationlist)))\n",
    "diffred=np.zeros((1440*3,len(stationlist)))\n",
    "diffmred=np.zeros((1440*3,len(stationlist)))\n",
    "diffvred=np.zeros((1440*3,len(stationlist)))\n",
    "diffext=abs(np.subtract(extended_np,normal_np))\n",
    "diffred=abs(np.subtract(reduced_np,normal_np))\n",
    "diffmred=abs(np.subtract(more_reduced_np,normal_np))\n",
    "diffvred=abs(np.subtract(very_reduced_np,normal_np))"
   ]
  },
  {
   "cell_type": "code",
   "execution_count": 106,
   "metadata": {},
   "outputs": [
    {
     "name": "stderr",
     "output_type": "stream",
     "text": [
      "No handles with labels found to put in legend.\n"
     ]
    },
    {
     "data": {
      "text/plain": [
       "[]"
      ]
     },
     "execution_count": 106,
     "metadata": {},
     "output_type": "execute_result"
    },
    {
     "data": {
      "image/png": "[encoded data removed]",
      "text/plain": [
       "<Figure size 432x288 with 1 Axes>"
      ]
     },
     "metadata": {
      "needs_background": "light"
     },
     "output_type": "display_data"
    }
   ],
   "source": [
    "import matplotlib.pyplot as plt\n",
    "names=pd.read_csv('/usr/people/out/Documents/380+220kV_extended/spreadsheettrafo.csv', delimiter=';')\n",
    "names=names.loc[stationlist,'naam']\n",
    "stationnames=names.to_numpy()\n",
    "\n",
    "%matplotlib inline\n",
    "timevector=np.linspace(0,72,1440*3)\n",
    "fig=plt.figure()\n",
    "ax1=fig.add_subplot()\n",
    "# ax2=fig.add_subplot(222)\n",
    "# ax3=fig.add_subplot(223)\n",
    "# ax4=fig.add_subplot(224)\n",
    "# fig.set_xlabel('Time (h)')\n",
    "# fig.set_ylabel('Relative difference')\n",
    "ax1.set_title('Mean error per Powergrid model')\n",
    "ax1.set_ylabel('Mean relative error (A)')\n",
    "ax1.set_xlabel('Time (h)')\n",
    "# ax2.set_title('Relative difference reduced (+3) grid')\n",
    "# ax3.set_title('Relative difference more reduced (+2) grid')\n",
    "# ax4.set_title('Relative difference very reduced (+1) grid')\n",
    "# ax1.errorbar(timevector, np.mean(diffext, axis=1), color='blue', label='+5 stations')\n",
    "# ax1.errorbar(timevector, np.mean(diffred, axis=1), color='orange', label='+3 stations')\n",
    "# ax1.errorbar(timevector, np.mean(diffmred, axis=1), color='green', label='+2 stations')\n",
    "# ax1.errorbar(timevector, np.mean(extended_np, axis=1), color='red', label='+1 station')\n",
    "ax1.plot(timevector, np.mean(normal_np, axis=1), color='black')\n",
    "# ax2.plot(timevector, diffred[:,station])\n",
    "# ax3.plot(timevector, diffmred[:,station])\n",
    "# ax4.plot(timevector, diffvred[:,station])\n",
    "plt.legend()\n",
    "plt.plot()\n",
    "# plt.savefig(f'/nobackup/users/out/Magnetic_field/new_Halloween/errorpowergrid.png', bbox_inches = 'tight')\n",
    "# print(np.where(diffext[:,0]==max(diffext[:,0])))"
   ]
  }
 ],
 "metadata": {
  "kernelspec": {
   "display_name": "Python 3",
   "language": "python",
   "name": "python3"
  },
  "language_info": {
   "codemirror_mode": {
    "name": "ipython",
    "version": 3
   },
   "file_extension": ".py",
   "mimetype": "text/x-python",
   "name": "python",
   "nbconvert_exporter": "python",
   "pygments_lexer": "ipython3",
   "version": "3.7.4"
  }
 },
 "nbformat": 4,
 "nbformat_minor": 2
}
