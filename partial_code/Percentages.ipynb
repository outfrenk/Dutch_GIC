{
 "cells": [
  {
   "cell_type": "code",
   "execution_count": 18,
   "metadata": {},
   "outputs": [],
   "source": [
    "# absolute and relative differences of stations due to changing amount of endnodes\n",
    "# baseline is 4 stations across the border\n",
    "### import packages ###\n",
    "import numpy as np\n",
    "import pandas as pd\n",
    "path='/nobackup/users/out/Magnetic_field/new_Halloween'\n",
    "#######################\n",
    "#what are the Dutch stations\n",
    "A=np.arange(3,21)\n",
    "\n",
    "B=np.arange(46,54,1)\n",
    "stationlist=np.hstack([0,1,A,28,29,32,33,35,43,44,B])\n",
    "\n",
    "B=np.arange(41,49,1)\n",
    "stationlist_more_reduced=np.hstack([0,1,A,25,26,29,30,32,39,40,B])\n",
    "\n",
    "B=np.arange(34,42,1)\n",
    "stationlist_very_reduced=np.hstack([0,1,A,23,24,27,28,30,32,33,B])\n",
    "\n",
    "#create matrices\n",
    "normal_np=np.zeros((1440*3,len(stationlist)))\n",
    "extended_np=np.zeros((1440*3,len(stationlist)))\n",
    "reduced_np=np.zeros((1440*3,len(stationlist)))\n",
    "more_reduced_np=np.zeros((1440*3,len(stationlist)))\n",
    "very_reduced_np=np.zeros((1440*3,len(stationlist)))\n",
    "\n",
    "#read-in\n",
    "for time in range(1440*3):\n",
    "    Atime=pd.read_csv(f'{path}/normal_powergrid/GIC/GIC_{str(time).zfill(4)}.csv',delimiter=';')\n",
    "    Atime=Atime.iloc[stationlist,:]\n",
    "    normal_np[time,:]=Atime.to_numpy()[:,2]\n",
    "    \n",
    "    Atime=pd.read_csv(f'{path}/extended_powergrid/GIC/GIC_{str(time).zfill(4)}.csv',delimiter=';')\n",
    "    Atime=Atime.iloc[stationlist,:]\n",
    "    extended_np[time,:]=Atime.to_numpy()[:,2]\n",
    "    \n",
    "    Atime=pd.read_csv(f'{path}/reduced_powergrid/GIC/GIC_{str(time).zfill(4)}.csv',delimiter=';')\n",
    "    Atime=Atime.iloc[stationlist,:]\n",
    "    reduced_np[time,:]=Atime.to_numpy()[:,2]\n",
    "    \n",
    "    Atime=pd.read_csv(f'{path}/very_reduced_powergrid/GIC/GIC_{str(time).zfill(4)}.csv',delimiter=';')\n",
    "    Atime=Atime.iloc[stationlist_very_reduced,:]\n",
    "    very_reduced_np[time,:]=Atime.to_numpy()[:,2]\n",
    "    \n",
    "    Atime=pd.read_csv(f'{path}/more_reduced_powergrid/GIC/GIC_{str(time).zfill(4)}.csv',delimiter=';')\n",
    "    Atime=Atime.iloc[stationlist_more_reduced,:]\n",
    "    more_reduced_np[time,:]=Atime.to_numpy()[:,2]"
   ]
  },
  {
   "cell_type": "code",
   "execution_count": 17,
   "metadata": {},
   "outputs": [
    {
     "name": "stdout",
     "output_type": "stream",
     "text": [
      "[[-0.0051393  -0.00311634 -0.00156807 ... -0.00909638 -0.00237193\n",
      "   0.00094187]\n",
      " [-0.00331636 -0.00198681  0.00149533 ...  0.00162311 -0.00337295\n",
      "   0.00080218]\n",
      " [-0.00602572 -0.00474753 -0.00196967 ... -0.00375655 -0.0051719\n",
      "  -0.00135984]\n",
      " ...\n",
      " [-0.01166904 -0.00858811 -0.00845189 ... -0.02750147 -0.00422686\n",
      "  -0.00108268]\n",
      " [-0.01198161 -0.00920129 -0.00858234 ... -0.02436252 -0.0058975\n",
      "  -0.00191835]\n",
      " [-0.01108792 -0.00886667 -0.01023213 ... -0.02580827 -0.00463968\n",
      "  -0.00331767]]\n"
     ]
    }
   ],
   "source": [
    "for time in range(1440*3):\n",
    "    "
   ]
  }
 ],
 "metadata": {
  "kernelspec": {
   "display_name": "Python 3",
   "language": "python",
   "name": "python3"
  },
  "language_info": {
   "codemirror_mode": {
    "name": "ipython",
    "version": 3
   },
   "file_extension": ".py",
   "mimetype": "text/x-python",
   "name": "python",
   "nbconvert_exporter": "python",
   "pygments_lexer": "ipython3",
   "version": "3.7.4"
  }
 },
 "nbformat": 4,
 "nbformat_minor": 2
}
