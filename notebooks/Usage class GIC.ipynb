{
 "cells": [
  {
   "cell_type": "markdown",
   "metadata": {},
   "source": [
    "# Usage of GIC class\n",
    "Call GIC class and set path to network csv files, path to where stations are downloaded, path to where results will be put, and date of active solar day.\n",
    "\n",
    "For netpath, base, and respath different paths should be inputted"
   ]
  },
  {
   "cell_type": "code",
   "execution_count": 4,
   "metadata": {},
   "source": [
    "from Dutch_GIC.dutchgic import GIC\n",
    "Halloween=GIC('/usr/people/out/Documents/380+220kV_extended','/usr/people/out/Documents/Magnetic_field/magnetic_data','/nobackup/users/out/Magnetic_field','08-09-2017')"
   ]
  },
  {
   "cell_type": "markdown",
   "metadata": {},
   "source": [
    "Now we run the runall function to walk through the total process from downloading data up to the point of calculating GICs in the Dutch powergrid. \n",
    "\n",
    "runall can be run argumentless (so Halloween.runall()). However, now we set did Halloween.runall(7,80,False) which means:\n",
    "- 7: chosen conductivity model\n",
    "- 80: guess we take for integrating electric field over cables. A too low guess will result is excessive amount of computation time\n",
    "- False : no GIC plots and movies will be generated"
   ]
  },
  {
   "cell_type": "code",
   "execution_count": 2,
   "metadata": {},
   "outputs": [
    {
     "name": "stdout",
     "output_type": "stream",
     "text": [
      "Quiet day is 09-09-2017\n",
      "['/nobackup/users/out/Magnetic_field/08-09-2017/Chambon_2017-09-08', '/nobackup/users/out/Magnetic_field/08-09-2017/Dourbes_2017-09-08', '/nobackup/users/out/Magnetic_field/08-09-2017/Eskdalemuir_2017-09-08', '/nobackup/users/out/Magnetic_field/08-09-2017/Furstenfeldbruck_2017-09-08', '/nobackup/users/out/Magnetic_field/08-09-2017/Hartland_2017-09-08', '/nobackup/users/out/Magnetic_field/08-09-2017/Lerwick_2017-09-08', '/nobackup/users/out/Magnetic_field/08-09-2017/Niemegk_2017-09-08', '/nobackup/users/out/Magnetic_field/08-09-2017/Uppsala_2017-09-08', '/nobackup/users/out/Magnetic_field/08-09-2017/Wingst_2017-09-08']\n",
      "setting up matrices!\n",
      "starting fourier transformation\n",
      "New data is added now!\n",
      "Script has been completed!\n"
     ]
    }
   ],
   "source": [
    "Halloween.runall(7,80,False)"
   ]
  },
  {
   "cell_type": "markdown",
   "metadata": {},
   "source": [
    "The run generates at least about 4.6 GB of data on a 8 cored computer with 16 GB of memory in about 75 to 90 minutes.\n",
    "\n",
    "See attached logbook.log file for more information"
   ]
  }
 ],
 "metadata": {
  "kernelspec": {
   "display_name": "Python 3",
   "language": "python",
   "name": "python3"
  },
  "language_info": {
   "codemirror_mode": {
    "name": "ipython",
    "version": 3
   },
   "file_extension": ".py",
   "mimetype": "text/x-python",
   "name": "python",
   "nbconvert_exporter": "python",
   "pygments_lexer": "ipython3",
   "version": "3.7.4"
  }
 },
 "nbformat": 4,
 "nbformat_minor": 2
}
